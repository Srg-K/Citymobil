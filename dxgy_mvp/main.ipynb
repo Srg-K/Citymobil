{
 "cells": [
  {
   "cell_type": "markdown",
   "metadata": {},
   "source": [
    "# 0. Configuration"
   ]
  },
  {
   "cell_type": "code",
   "execution_count": 1,
   "metadata": {},
   "outputs": [],
   "source": [
    "# DxGy setup params\n",
    "period_date_start = ['2021-12-17'] # YYYY-MM-DD\n",
    "target_x = [66]\n",
    "budget = [7000]\n",
    "period = [7] # number of days the company will run\n",
    "end_date = '2021-12-17'\n",
    "\n",
    "# query and preprocessing params\n",
    "file_dir = '/Users/skostuchik/projects/dxgy_mvp'\n",
    "sql_drivers_context_path = '/sql/get_drivers_context.sql'\n",
    "valid_driver_ids = '/data/drivers_to_reactivate_2_10_weeks.csv'\n",
    "locality = 22534\n",
    "driver_id_col = 'ID'\n",
    "final_features_list = ['target_x', 'budget', 'period', 'trips',\n",
    "                       'days_since_last_trip', 'days_since_first_trip']\n"
   ]
  },
  {
   "cell_type": "markdown",
   "metadata": {},
   "source": [
    "# 1. Modules and functions"
   ]
  },
  {
   "cell_type": "code",
   "execution_count": 2,
   "metadata": {},
   "outputs": [],
   "source": [
    "#%load_ext dotenv\n",
    "#%dotenv\n",
    "#%reload_ext dotenv\n",
    "\n",
    "from utils.utils import read_file\n",
    "from model.get_driver_scorings import *\n",
    "pd.set_option('display.float_format', lambda x: '%.3f' % x)\n"
   ]
  },
  {
   "cell_type": "markdown",
   "metadata": {},
   "source": [
    "# 2. Main"
   ]
  },
  {
   "cell_type": "code",
   "execution_count": 3,
   "metadata": {},
   "outputs": [
    {
     "name": "stdout",
     "output_type": "stream",
     "text": [
      "Number of unique driver ids 569\n"
     ]
    }
   ],
   "source": [
    "# load drivers to target\n",
    "driver_ids = read_file(file_dir + valid_driver_ids)\n",
    "assert len(driver_ids) == driver_ids[driver_id_col].nunique(), 'There are duplicates in driver ids'\n",
    "print(f'Number of unique driver ids {driver_ids[driver_id_col].nunique()}')\n"
   ]
  },
  {
   "cell_type": "code",
   "execution_count": 81,
   "metadata": {},
   "outputs": [],
   "source": [
    "query = sql_from_file(file_dir + sql_drivers_context_path)\\\n",
    "                    .format(locality, end_date)"
   ]
  },
  {
   "cell_type": "code",
   "execution_count": 82,
   "metadata": {},
   "outputs": [
    {
     "name": "stdout",
     "output_type": "stream",
     "text": [
      "select distinct d.ID \t\t\t\t\t\tAS driver_id\n",
      "              , min(to_date(o.ORDER_DTTM)) \t\t\tas dt_first\n",
      "              , max(to_date(o.ORDER_DTTM)) \t\t\tas dt_last\n",
      "              , count(distinct ORDER_RK) \t\t\t\tas trips\n",
      "from REPLICA.DRIVERS d\n",
      "left join EMART.\"ORDER\" o on d.ID = o.DRIVER_RK\n",
      "where 1 = 1\n",
      "and LOCALITY_RK = 22534\n",
      "and to_date(o.ORDER_DTTM) < '2021-12-17'\n",
      "and STATUS_CD = 'CP'\n",
      "group by 1\n"
     ]
    }
   ],
   "source": [
    "print(query)"
   ]
  },
  {
   "cell_type": "code",
   "execution_count": 4,
   "metadata": {},
   "outputs": [],
   "source": [
    "# get drivers' data\n",
    "drivers_context = get_drivers_context(file_dir, sql_drivers_context_path,\n",
    "                                      locality, end_date = end_date,\n",
    "                                      driver_ids = driver_ids, driver_id_col = driver_id_col)"
   ]
  },
  {
   "cell_type": "code",
   "execution_count": 5,
   "metadata": {},
   "outputs": [
    {
     "name": "stderr",
     "output_type": "stream",
     "text": [
      "/Users/skostuchik/opt/anaconda3/lib/python3.8/site-packages/sklearn/base.py:325: UserWarning: Trying to unpickle estimator DecisionTreeClassifier from version 0.24.1 when using version 1.1.dev0. This might lead to breaking code or invalid results. Use at your own risk. For more info please refer to:\n",
      "https://scikit-learn.org/stable/modules/model_persistence.html#security-maintainability-limitations\n",
      "  warnings.warn(\n",
      "/Users/skostuchik/opt/anaconda3/lib/python3.8/site-packages/sklearn/base.py:325: UserWarning: Trying to unpickle estimator RandomForestClassifier from version 0.24.1 when using version 1.1.dev0. This might lead to breaking code or invalid results. Use at your own risk. For more info please refer to:\n",
      "https://scikit-learn.org/stable/modules/model_persistence.html#security-maintainability-limitations\n",
      "  warnings.warn(\n",
      "/Users/skostuchik/opt/anaconda3/lib/python3.8/site-packages/sklearn/base.py:325: UserWarning: Trying to unpickle estimator IsotonicRegression from version 0.24.1 when using version 1.1.dev0. This might lead to breaking code or invalid results. Use at your own risk. For more info please refer to:\n",
      "https://scikit-learn.org/stable/modules/model_persistence.html#security-maintainability-limitations\n",
      "  warnings.warn(\n",
      "/Users/skostuchik/opt/anaconda3/lib/python3.8/site-packages/sklearn/base.py:325: UserWarning: Trying to unpickle estimator CalibratedClassifierCV from version 0.24.1 when using version 1.1.dev0. This might lead to breaking code or invalid results. Use at your own risk. For more info please refer to:\n",
      "https://scikit-learn.org/stable/modules/model_persistence.html#security-maintainability-limitations\n",
      "  warnings.warn(\n"
     ]
    }
   ],
   "source": [
    "# load models\n",
    "models = load_dxgy_models(file_dir)"
   ]
  },
  {
   "cell_type": "code",
   "execution_count": 10,
   "metadata": {},
   "outputs": [
    {
     "name": "stderr",
     "output_type": "stream",
     "text": [
      "/Users/skostuchik/opt/anaconda3/lib/python3.8/site-packages/sklearn/base.py:439: UserWarning: X has feature names, but RandomForestClassifier was fitted without feature names\n",
      "  warnings.warn(\n",
      "/Users/skostuchik/opt/anaconda3/lib/python3.8/site-packages/sklearn/base.py:439: UserWarning: X has feature names, but RandomForestClassifier was fitted without feature names\n",
      "  warnings.warn(\n",
      "/Users/skostuchik/opt/anaconda3/lib/python3.8/site-packages/sklearn/base.py:439: UserWarning: X has feature names, but RandomForestClassifier was fitted without feature names\n",
      "  warnings.warn(\n",
      "/Users/skostuchik/opt/anaconda3/lib/python3.8/site-packages/sklearn/base.py:439: UserWarning: X has feature names, but RandomForestClassifier was fitted without feature names\n",
      "  warnings.warn(\n",
      "/Users/skostuchik/opt/anaconda3/lib/python3.8/site-packages/sklearn/base.py:439: UserWarning: X has feature names, but RandomForestClassifier was fitted without feature names\n",
      "  warnings.warn(\n",
      "/Users/skostuchik/opt/anaconda3/lib/python3.8/site-packages/sklearn/base.py:439: UserWarning: X has feature names, but RandomForestClassifier was fitted without feature names\n",
      "  warnings.warn(\n",
      "/Users/skostuchik/opt/anaconda3/lib/python3.8/site-packages/sklearn/base.py:439: UserWarning: X has feature names, but RandomForestClassifier was fitted without feature names\n",
      "  warnings.warn(\n",
      "/Users/skostuchik/opt/anaconda3/lib/python3.8/site-packages/sklearn/base.py:439: UserWarning: X has feature names, but RandomForestClassifier was fitted without feature names\n",
      "  warnings.warn(\n",
      "/Users/skostuchik/opt/anaconda3/lib/python3.8/site-packages/sklearn/base.py:439: UserWarning: X has feature names, but RandomForestClassifier was fitted without feature names\n",
      "  warnings.warn(\n",
      "/Users/skostuchik/opt/anaconda3/lib/python3.8/site-packages/sklearn/base.py:439: UserWarning: X has feature names, but RandomForestClassifier was fitted without feature names\n",
      "  warnings.warn(\n"
     ]
    }
   ],
   "source": [
    "# get estimatios\n",
    "setups_estimation = get_dxgy_estimations(drivers_context, models, file_dir, target_x, budget,\n",
    "                                         period, period_date_start, final_features_list)"
   ]
  },
  {
   "cell_type": "code",
   "execution_count": 11,
   "metadata": {},
   "outputs": [
    {
     "data": {
      "text/html": [
       "<div>\n",
       "<style scoped>\n",
       "    .dataframe tbody tr th:only-of-type {\n",
       "        vertical-align: middle;\n",
       "    }\n",
       "\n",
       "    .dataframe tbody tr th {\n",
       "        vertical-align: top;\n",
       "    }\n",
       "\n",
       "    .dataframe thead th {\n",
       "        text-align: right;\n",
       "    }\n",
       "</style>\n",
       "<table border=\"1\" class=\"dataframe\">\n",
       "  <thead>\n",
       "    <tr style=\"text-align: right;\">\n",
       "      <th></th>\n",
       "      <th>target_x</th>\n",
       "      <th>budget</th>\n",
       "      <th>period</th>\n",
       "      <th>period_date_start</th>\n",
       "      <th>spends</th>\n",
       "      <th>trips</th>\n",
       "    </tr>\n",
       "  </thead>\n",
       "  <tbody>\n",
       "    <tr>\n",
       "      <th>0</th>\n",
       "      <td>66</td>\n",
       "      <td>7000</td>\n",
       "      <td>7</td>\n",
       "      <td>2021-12-17</td>\n",
       "      <td>88058.131</td>\n",
       "      <td>1633.482</td>\n",
       "    </tr>\n",
       "  </tbody>\n",
       "</table>\n",
       "</div>"
      ],
      "text/plain": [
       "   target_x  budget  period period_date_start    spends    trips\n",
       "0        66    7000       7        2021-12-17 88058.131 1633.482"
      ]
     },
     "execution_count": 11,
     "metadata": {},
     "output_type": "execute_result"
    }
   ],
   "source": [
    "setups_estimation"
   ]
  },
  {
   "cell_type": "code",
   "execution_count": null,
   "metadata": {},
   "outputs": [],
   "source": []
  },
  {
   "cell_type": "code",
   "execution_count": null,
   "metadata": {},
   "outputs": [],
   "source": []
  },
  {
   "cell_type": "code",
   "execution_count": 23,
   "metadata": {},
   "outputs": [],
   "source": [
    "setups = {'target_x': target_x,\n",
    "              'budget': budget,\n",
    "              'period': period,\n",
    "              'period_date_start': period_date_start,\n",
    "              'spends': [],\n",
    "              'trips': []}"
   ]
  },
  {
   "cell_type": "code",
   "execution_count": 24,
   "metadata": {},
   "outputs": [
    {
     "data": {
      "text/plain": [
       "{'target_x': [66],\n",
       " 'budget': [7000],\n",
       " 'period': [7],\n",
       " 'period_date_start': ['2021-12-17'],\n",
       " 'spends': [],\n",
       " 'trips': []}"
      ]
     },
     "execution_count": 24,
     "metadata": {},
     "output_type": "execute_result"
    }
   ],
   "source": [
    "setups"
   ]
  },
  {
   "cell_type": "code",
   "execution_count": 25,
   "metadata": {},
   "outputs": [
    {
     "name": "stdout",
     "output_type": "stream",
     "text": [
      "66 7000 7 2021-12-17\n"
     ]
    }
   ],
   "source": [
    "for target_x, budget, period, period_date_start in zip(setups['target_x'], setups['budget'],\n",
    "                                                       setups['period'], setups['period_date_start']):\n",
    "    print(target_x, budget, period, period_date_start)"
   ]
  },
  {
   "cell_type": "code",
   "execution_count": 26,
   "metadata": {},
   "outputs": [],
   "source": [
    "main_df = prepare_valid_df(drivers_context, target_x, budget, period, period_date_start)"
   ]
  },
  {
   "cell_type": "code",
   "execution_count": 38,
   "metadata": {},
   "outputs": [
    {
     "name": "stderr",
     "output_type": "stream",
     "text": [
      "/Users/skostuchik/opt/anaconda3/lib/python3.8/site-packages/sklearn/base.py:439: UserWarning: X has feature names, but RandomForestClassifier was fitted without feature names\n",
      "  warnings.warn(\n",
      "/Users/skostuchik/opt/anaconda3/lib/python3.8/site-packages/sklearn/base.py:439: UserWarning: X has feature names, but RandomForestClassifier was fitted without feature names\n",
      "  warnings.warn(\n",
      "/Users/skostuchik/opt/anaconda3/lib/python3.8/site-packages/sklearn/base.py:439: UserWarning: X has feature names, but RandomForestClassifier was fitted without feature names\n",
      "  warnings.warn(\n",
      "/Users/skostuchik/opt/anaconda3/lib/python3.8/site-packages/sklearn/base.py:439: UserWarning: X has feature names, but RandomForestClassifier was fitted without feature names\n",
      "  warnings.warn(\n",
      "/Users/skostuchik/opt/anaconda3/lib/python3.8/site-packages/sklearn/base.py:439: UserWarning: X has feature names, but RandomForestClassifier was fitted without feature names\n",
      "  warnings.warn(\n"
     ]
    }
   ],
   "source": [
    "main_df['calibrated_spend_preds'] = models['spends_model'].predict_proba(main_df[final_features_list])[:, -1]"
   ]
  },
  {
   "cell_type": "code",
   "execution_count": 39,
   "metadata": {},
   "outputs": [
    {
     "data": {
      "text/html": [
       "<div>\n",
       "<style scoped>\n",
       "    .dataframe tbody tr th:only-of-type {\n",
       "        vertical-align: middle;\n",
       "    }\n",
       "\n",
       "    .dataframe tbody tr th {\n",
       "        vertical-align: top;\n",
       "    }\n",
       "\n",
       "    .dataframe thead th {\n",
       "        text-align: right;\n",
       "    }\n",
       "</style>\n",
       "<table border=\"1\" class=\"dataframe\">\n",
       "  <thead>\n",
       "    <tr style=\"text-align: right;\">\n",
       "      <th></th>\n",
       "      <th>driver_id</th>\n",
       "      <th>trips</th>\n",
       "      <th>days_since_last_trip</th>\n",
       "      <th>days_since_first_trip</th>\n",
       "      <th>target_x</th>\n",
       "      <th>budget</th>\n",
       "      <th>period</th>\n",
       "      <th>calibrated_spend_preds</th>\n",
       "    </tr>\n",
       "  </thead>\n",
       "  <tbody>\n",
       "    <tr>\n",
       "      <th>26</th>\n",
       "      <td>14871438</td>\n",
       "      <td>777</td>\n",
       "      <td>53</td>\n",
       "      <td>643</td>\n",
       "      <td>66</td>\n",
       "      <td>7000</td>\n",
       "      <td>7</td>\n",
       "      <td>0.000</td>\n",
       "    </tr>\n",
       "    <tr>\n",
       "      <th>36</th>\n",
       "      <td>30518711</td>\n",
       "      <td>388</td>\n",
       "      <td>1</td>\n",
       "      <td>100</td>\n",
       "      <td>66</td>\n",
       "      <td>7000</td>\n",
       "      <td>7</td>\n",
       "      <td>0.000</td>\n",
       "    </tr>\n",
       "    <tr>\n",
       "      <th>52</th>\n",
       "      <td>31859579</td>\n",
       "      <td>160</td>\n",
       "      <td>52</td>\n",
       "      <td>59</td>\n",
       "      <td>66</td>\n",
       "      <td>7000</td>\n",
       "      <td>7</td>\n",
       "      <td>0.000</td>\n",
       "    </tr>\n",
       "    <tr>\n",
       "      <th>76</th>\n",
       "      <td>26951691</td>\n",
       "      <td>201</td>\n",
       "      <td>54</td>\n",
       "      <td>176</td>\n",
       "      <td>66</td>\n",
       "      <td>7000</td>\n",
       "      <td>7</td>\n",
       "      <td>0.000</td>\n",
       "    </tr>\n",
       "    <tr>\n",
       "      <th>81</th>\n",
       "      <td>29752783</td>\n",
       "      <td>10</td>\n",
       "      <td>100</td>\n",
       "      <td>132</td>\n",
       "      <td>66</td>\n",
       "      <td>7000</td>\n",
       "      <td>7</td>\n",
       "      <td>0.000</td>\n",
       "    </tr>\n",
       "    <tr>\n",
       "      <th>...</th>\n",
       "      <td>...</td>\n",
       "      <td>...</td>\n",
       "      <td>...</td>\n",
       "      <td>...</td>\n",
       "      <td>...</td>\n",
       "      <td>...</td>\n",
       "      <td>...</td>\n",
       "      <td>...</td>\n",
       "    </tr>\n",
       "    <tr>\n",
       "      <th>15982</th>\n",
       "      <td>14036266</td>\n",
       "      <td>227</td>\n",
       "      <td>99</td>\n",
       "      <td>648</td>\n",
       "      <td>66</td>\n",
       "      <td>7000</td>\n",
       "      <td>7</td>\n",
       "      <td>0.000</td>\n",
       "    </tr>\n",
       "    <tr>\n",
       "      <th>15986</th>\n",
       "      <td>24543031</td>\n",
       "      <td>96</td>\n",
       "      <td>17</td>\n",
       "      <td>213</td>\n",
       "      <td>66</td>\n",
       "      <td>7000</td>\n",
       "      <td>7</td>\n",
       "      <td>0.000</td>\n",
       "    </tr>\n",
       "    <tr>\n",
       "      <th>16002</th>\n",
       "      <td>19702567</td>\n",
       "      <td>274</td>\n",
       "      <td>86</td>\n",
       "      <td>389</td>\n",
       "      <td>66</td>\n",
       "      <td>7000</td>\n",
       "      <td>7</td>\n",
       "      <td>0.000</td>\n",
       "    </tr>\n",
       "    <tr>\n",
       "      <th>16011</th>\n",
       "      <td>31292979</td>\n",
       "      <td>5</td>\n",
       "      <td>79</td>\n",
       "      <td>79</td>\n",
       "      <td>66</td>\n",
       "      <td>7000</td>\n",
       "      <td>7</td>\n",
       "      <td>0.000</td>\n",
       "    </tr>\n",
       "    <tr>\n",
       "      <th>16046</th>\n",
       "      <td>15398287</td>\n",
       "      <td>5296</td>\n",
       "      <td>99</td>\n",
       "      <td>619</td>\n",
       "      <td>66</td>\n",
       "      <td>7000</td>\n",
       "      <td>7</td>\n",
       "      <td>0.225</td>\n",
       "    </tr>\n",
       "  </tbody>\n",
       "</table>\n",
       "<p>529 rows × 8 columns</p>\n",
       "</div>"
      ],
      "text/plain": [
       "       driver_id  trips  days_since_last_trip  days_since_first_trip  \\\n",
       "26      14871438    777                    53                    643   \n",
       "36      30518711    388                     1                    100   \n",
       "52      31859579    160                    52                     59   \n",
       "76      26951691    201                    54                    176   \n",
       "81      29752783     10                   100                    132   \n",
       "...          ...    ...                   ...                    ...   \n",
       "15982   14036266    227                    99                    648   \n",
       "15986   24543031     96                    17                    213   \n",
       "16002   19702567    274                    86                    389   \n",
       "16011   31292979      5                    79                     79   \n",
       "16046   15398287   5296                    99                    619   \n",
       "\n",
       "       target_x  budget  period  calibrated_spend_preds  \n",
       "26           66    7000       7                   0.000  \n",
       "36           66    7000       7                   0.000  \n",
       "52           66    7000       7                   0.000  \n",
       "76           66    7000       7                   0.000  \n",
       "81           66    7000       7                   0.000  \n",
       "...         ...     ...     ...                     ...  \n",
       "15982        66    7000       7                   0.000  \n",
       "15986        66    7000       7                   0.000  \n",
       "16002        66    7000       7                   0.000  \n",
       "16011        66    7000       7                   0.000  \n",
       "16046        66    7000       7                   0.225  \n",
       "\n",
       "[529 rows x 8 columns]"
      ]
     },
     "execution_count": 39,
     "metadata": {},
     "output_type": "execute_result"
    }
   ],
   "source": [
    "main_df"
   ]
  },
  {
   "cell_type": "code",
   "execution_count": 40,
   "metadata": {},
   "outputs": [],
   "source": [
    "spends_model_preds = main_df['calibrated_spend_preds'].mean() * budget * main_df.driver_id.nunique() * .84"
   ]
  },
  {
   "cell_type": "code",
   "execution_count": 42,
   "metadata": {},
   "outputs": [],
   "source": [
    "setups['spends'].append(spends_model_preds)"
   ]
  },
  {
   "cell_type": "code",
   "execution_count": 43,
   "metadata": {},
   "outputs": [
    {
     "data": {
      "text/plain": [
       "{'target_x': [66],\n",
       " 'budget': [7000],\n",
       " 'period': [7],\n",
       " 'period_date_start': ['2021-12-17'],\n",
       " 'spends': [88058.13078801137],\n",
       " 'trips': []}"
      ]
     },
     "execution_count": 43,
     "metadata": {},
     "output_type": "execute_result"
    }
   ],
   "source": [
    "setups"
   ]
  },
  {
   "cell_type": "code",
   "execution_count": null,
   "metadata": {},
   "outputs": [],
   "source": []
  },
  {
   "cell_type": "code",
   "execution_count": null,
   "metadata": {},
   "outputs": [],
   "source": []
  },
  {
   "cell_type": "code",
   "execution_count": null,
   "metadata": {},
   "outputs": [],
   "source": []
  },
  {
   "cell_type": "code",
   "execution_count": null,
   "metadata": {},
   "outputs": [],
   "source": []
  },
  {
   "cell_type": "code",
   "execution_count": null,
   "metadata": {},
   "outputs": [],
   "source": []
  },
  {
   "cell_type": "code",
   "execution_count": null,
   "metadata": {},
   "outputs": [],
   "source": []
  },
  {
   "cell_type": "code",
   "execution_count": null,
   "metadata": {},
   "outputs": [],
   "source": []
  },
  {
   "cell_type": "code",
   "execution_count": null,
   "metadata": {},
   "outputs": [],
   "source": []
  },
  {
   "cell_type": "code",
   "execution_count": 44,
   "metadata": {},
   "outputs": [],
   "source": [
    "#file_dir = '/Users/skhalilbekov/Desktop/wokrflow/dxgy_mvp'\n",
    "sql_query_path = '/sql/get_dxgy_data.sql'\n",
    "spends_query_path = 'sql/get_spend_shares.sql'\n",
    "locality = 22534\n",
    "\n",
    "target_cols = ['EXPECTED_RIDES']\n",
    "drop_cols_for_train = ['ID', 'SPLIT_NO', 'PERIOD_DATE_START']\n",
    "unique_obs_groupper = ['ID', 'SPLIT_NO', 'PERIOD_DATE_START', 'SEGMENT_TYPE']\n",
    "\n",
    "\n",
    "params_grid = {\n",
    "    'max_depth': [2, 3, 4],\n",
    "    'n_estimators': [50, 100, 500],\n",
    "    'max_features': [3, 4, 5]\n",
    "    }"
   ]
  },
  {
   "cell_type": "code",
   "execution_count": 66,
   "metadata": {},
   "outputs": [],
   "source": [
    "import numpy as np\n",
    "from numpy import mean\n",
    "from numpy import std\n",
    "from numpy import absolute\n",
    "import matplotlib.pyplot as plt\n",
    "from sklearn.svm import LinearSVR\n",
    "from sklearn.metrics import r2_score\n",
    "from sklearn.model_selection import GridSearchCV\n",
    "from sklearn.ensemble import RandomForestRegressor\n",
    "from sklearn.model_selection import cross_val_score\n",
    "from sklearn.model_selection import train_test_split\n",
    "from sklearn.multioutput import MultiOutputRegressor\n",
    "from sklearn.preprocessing import OneHotEncoder"
   ]
  },
  {
   "cell_type": "code",
   "execution_count": 46,
   "metadata": {},
   "outputs": [],
   "source": [
    "pd.set_option('display.width', 800)\n",
    "pd.set_option('display.max_columns', 10)\n",
    "pd.set_option('display.float_format', lambda x: '%.2f' % x)"
   ]
  },
  {
   "cell_type": "code",
   "execution_count": 47,
   "metadata": {},
   "outputs": [],
   "source": [
    "def get_dxgy_data(file_dir: str, sql_query_path: str, locality: int):\n",
    "    \n",
    "    query = sql_from_file(file_dir + sql_query_path).format(locality)\n",
    "    cred = pd.read_json(r'/Users/skostuchik/crd_exa.json')\n",
    "    user = cred.iloc[0, 0]\n",
    "    password = cred.iloc[0, 1]\n",
    "    db_host = pyexasol.connect(dsn='ex1..3.city-srv.ru:8563', user=user, password=password, fetch_dict=True)\n",
    "\n",
    "    df = db_host.export_to_pandas(query)\n",
    "    \n",
    "    return df\n",
    "\n",
    "def is_weekend(day):\n",
    "    if day <= 3:\n",
    "        is_weekend = 0\n",
    "    elif 3 < day < 7:\n",
    "        is_weekend = 1\n",
    "    else:\n",
    "        is_weekend = -1\n",
    "    return is_weekend\n",
    "\n",
    "def calc_time_features(df: pd.DataFrame):\n",
    "    \n",
    "    df['month'] = df['PERIOD_DATE_START'].dt.month\n",
    "    df['quarter'] = df['PERIOD_DATE_START'].dt.quarter\n",
    "    df['dayofweek'] = df['PERIOD_DATE_START'].dt.dayofweek\n",
    "    df['dayname'] = df['PERIOD_DATE_START'].dt.day_name()\n",
    "    df['is_weekend'] = df['dayofweek'].apply(is_weekend)\n",
    "    \n",
    "    return df\n",
    "    \n",
    "def get_feature_importances(forest, X: pd.DataFrame):\n",
    "    \n",
    "    feature_names = [f\"{i}\" for i in X.columns]\n",
    "    importances = forest.feature_importances_\n",
    "    std = np.std([tree.feature_importances_ for tree in forest.estimators_], axis=0)\n",
    "    forest_importances = pd.Series(importances, index=feature_names)\n",
    "    fig, ax = plt.subplots()\n",
    "    forest_importances.plot.bar(yerr=std, ax=ax)\n",
    "    ax.set_title(\"Feature importances using MDI\")\n",
    "    ax.set_ylabel(\"Mean decrease in impurity\")\n",
    "    fig.tight_layout()\n",
    "    plt.show()\n",
    "\n",
    "# кодируем кат фичи\n",
    "def code_dummy(data, feature):\n",
    "    for i in data[feature].unique():\n",
    "        data[feature + '=' + str(i)] = (data[feature] == i).astype(float)"
   ]
  },
  {
   "cell_type": "code",
   "execution_count": 48,
   "metadata": {},
   "outputs": [
    {
     "name": "stderr",
     "output_type": "stream",
     "text": [
      "<ipython-input-48-4e9b86279d5d>:15: SettingWithCopyWarning: \n",
      "A value is trying to be set on a copy of a slice from a DataFrame.\n",
      "Try using .loc[row_indexer,col_indexer] = value instead\n",
      "\n",
      "See the caveats in the documentation: https://pandas.pydata.org/pandas-docs/stable/user_guide/indexing.html#returning-a-view-versus-a-copy\n",
      "  filtered_main_df['TARGET_Y'] = filtered_main_df['BUDGET'] / filtered_main_df['total_drivers_count']\n"
     ]
    }
   ],
   "source": [
    "# raw data\n",
    "df = get_dxgy_data(file_dir, sql_query_path, locality)\n",
    "\n",
    "# group by bonus id and split\n",
    "main_df = df.groupby(unique_obs_groupper).agg({'DRIVER_ID': 'count',\n",
    "                                               'BUDGET': 'sum',\n",
    "                                               'PERIOD': 'mean',\n",
    "                                               'FACT_RIDES': 'sum',\n",
    "                                               'TARGET_Y': 'mean',\n",
    "                                               'TARGET_X': 'mean'})\\\n",
    "                      .rename(columns = {'DRIVER_ID': 'total_drivers_count',\n",
    "                                         'FACT_RIDES': 'EXPECTED_RIDES'})\\\n",
    "                      .reset_index()\n",
    "filtered_main_df = main_df.loc[main_df['PERIOD_DATE_START'] < '2021-07-01 00:00:00']\n",
    "filtered_main_df['TARGET_Y'] = filtered_main_df['BUDGET'] / filtered_main_df['total_drivers_count']"
   ]
  },
  {
   "cell_type": "code",
   "execution_count": 53,
   "metadata": {},
   "outputs": [],
   "source": [
    "y, X = filtered_main_df[target_cols], filtered_main_df.drop(target_cols + drop_cols_for_train, axis = 1)"
   ]
  },
  {
   "cell_type": "code",
   "execution_count": 56,
   "metadata": {},
   "outputs": [
    {
     "name": "stderr",
     "output_type": "stream",
     "text": [
      "/Users/skostuchik/opt/anaconda3/lib/python3.8/site-packages/sklearn/model_selection/_validation.py:687: DataConversionWarning: A column-vector y was passed when a 1d array was expected. Please change the shape of y to (n_samples,), for example using ravel().\n",
      "  estimator.fit(X_train, y_train, **fit_params)\n",
      "/Users/skostuchik/opt/anaconda3/lib/python3.8/site-packages/sklearn/model_selection/_validation.py:687: DataConversionWarning: A column-vector y was passed when a 1d array was expected. Please change the shape of y to (n_samples,), for example using ravel().\n",
      "  estimator.fit(X_train, y_train, **fit_params)\n",
      "/Users/skostuchik/opt/anaconda3/lib/python3.8/site-packages/sklearn/model_selection/_validation.py:687: DataConversionWarning: A column-vector y was passed when a 1d array was expected. Please change the shape of y to (n_samples,), for example using ravel().\n",
      "  estimator.fit(X_train, y_train, **fit_params)\n",
      "/Users/skostuchik/opt/anaconda3/lib/python3.8/site-packages/sklearn/model_selection/_validation.py:687: DataConversionWarning: A column-vector y was passed when a 1d array was expected. Please change the shape of y to (n_samples,), for example using ravel().\n",
      "  estimator.fit(X_train, y_train, **fit_params)\n",
      "/Users/skostuchik/opt/anaconda3/lib/python3.8/site-packages/sklearn/model_selection/_validation.py:687: DataConversionWarning: A column-vector y was passed when a 1d array was expected. Please change the shape of y to (n_samples,), for example using ravel().\n",
      "  estimator.fit(X_train, y_train, **fit_params)\n",
      "/Users/skostuchik/opt/anaconda3/lib/python3.8/site-packages/sklearn/model_selection/_validation.py:687: DataConversionWarning: A column-vector y was passed when a 1d array was expected. Please change the shape of y to (n_samples,), for example using ravel().\n",
      "  estimator.fit(X_train, y_train, **fit_params)\n",
      "/Users/skostuchik/opt/anaconda3/lib/python3.8/site-packages/sklearn/model_selection/_validation.py:687: DataConversionWarning: A column-vector y was passed when a 1d array was expected. Please change the shape of y to (n_samples,), for example using ravel().\n",
      "  estimator.fit(X_train, y_train, **fit_params)\n",
      "/Users/skostuchik/opt/anaconda3/lib/python3.8/site-packages/sklearn/model_selection/_validation.py:687: DataConversionWarning: A column-vector y was passed when a 1d array was expected. Please change the shape of y to (n_samples,), for example using ravel().\n",
      "  estimator.fit(X_train, y_train, **fit_params)\n",
      "/Users/skostuchik/opt/anaconda3/lib/python3.8/site-packages/sklearn/model_selection/_validation.py:687: DataConversionWarning: A column-vector y was passed when a 1d array was expected. Please change the shape of y to (n_samples,), for example using ravel().\n",
      "  estimator.fit(X_train, y_train, **fit_params)\n",
      "/Users/skostuchik/opt/anaconda3/lib/python3.8/site-packages/sklearn/model_selection/_validation.py:687: DataConversionWarning: A column-vector y was passed when a 1d array was expected. Please change the shape of y to (n_samples,), for example using ravel().\n",
      "  estimator.fit(X_train, y_train, **fit_params)\n",
      "/Users/skostuchik/opt/anaconda3/lib/python3.8/site-packages/sklearn/model_selection/_validation.py:687: DataConversionWarning: A column-vector y was passed when a 1d array was expected. Please change the shape of y to (n_samples,), for example using ravel().\n",
      "  estimator.fit(X_train, y_train, **fit_params)\n",
      "/Users/skostuchik/opt/anaconda3/lib/python3.8/site-packages/sklearn/model_selection/_validation.py:687: DataConversionWarning: A column-vector y was passed when a 1d array was expected. Please change the shape of y to (n_samples,), for example using ravel().\n",
      "  estimator.fit(X_train, y_train, **fit_params)\n",
      "/Users/skostuchik/opt/anaconda3/lib/python3.8/site-packages/sklearn/model_selection/_validation.py:687: DataConversionWarning: A column-vector y was passed when a 1d array was expected. Please change the shape of y to (n_samples,), for example using ravel().\n",
      "  estimator.fit(X_train, y_train, **fit_params)\n",
      "/Users/skostuchik/opt/anaconda3/lib/python3.8/site-packages/sklearn/model_selection/_validation.py:687: DataConversionWarning: A column-vector y was passed when a 1d array was expected. Please change the shape of y to (n_samples,), for example using ravel().\n",
      "  estimator.fit(X_train, y_train, **fit_params)\n",
      "/Users/skostuchik/opt/anaconda3/lib/python3.8/site-packages/sklearn/model_selection/_validation.py:687: DataConversionWarning: A column-vector y was passed when a 1d array was expected. Please change the shape of y to (n_samples,), for example using ravel().\n",
      "  estimator.fit(X_train, y_train, **fit_params)\n",
      "/Users/skostuchik/opt/anaconda3/lib/python3.8/site-packages/sklearn/model_selection/_validation.py:687: DataConversionWarning: A column-vector y was passed when a 1d array was expected. Please change the shape of y to (n_samples,), for example using ravel().\n",
      "  estimator.fit(X_train, y_train, **fit_params)\n",
      "/Users/skostuchik/opt/anaconda3/lib/python3.8/site-packages/sklearn/model_selection/_validation.py:687: DataConversionWarning: A column-vector y was passed when a 1d array was expected. Please change the shape of y to (n_samples,), for example using ravel().\n",
      "  estimator.fit(X_train, y_train, **fit_params)\n",
      "/Users/skostuchik/opt/anaconda3/lib/python3.8/site-packages/sklearn/model_selection/_validation.py:687: DataConversionWarning: A column-vector y was passed when a 1d array was expected. Please change the shape of y to (n_samples,), for example using ravel().\n",
      "  estimator.fit(X_train, y_train, **fit_params)\n",
      "/Users/skostuchik/opt/anaconda3/lib/python3.8/site-packages/sklearn/model_selection/_validation.py:687: DataConversionWarning: A column-vector y was passed when a 1d array was expected. Please change the shape of y to (n_samples,), for example using ravel().\n",
      "  estimator.fit(X_train, y_train, **fit_params)\n",
      "/Users/skostuchik/opt/anaconda3/lib/python3.8/site-packages/sklearn/model_selection/_validation.py:687: DataConversionWarning: A column-vector y was passed when a 1d array was expected. Please change the shape of y to (n_samples,), for example using ravel().\n",
      "  estimator.fit(X_train, y_train, **fit_params)\n",
      "/Users/skostuchik/opt/anaconda3/lib/python3.8/site-packages/sklearn/model_selection/_validation.py:687: DataConversionWarning: A column-vector y was passed when a 1d array was expected. Please change the shape of y to (n_samples,), for example using ravel().\n",
      "  estimator.fit(X_train, y_train, **fit_params)\n",
      "/Users/skostuchik/opt/anaconda3/lib/python3.8/site-packages/sklearn/model_selection/_validation.py:687: DataConversionWarning: A column-vector y was passed when a 1d array was expected. Please change the shape of y to (n_samples,), for example using ravel().\n",
      "  estimator.fit(X_train, y_train, **fit_params)\n",
      "/Users/skostuchik/opt/anaconda3/lib/python3.8/site-packages/sklearn/model_selection/_validation.py:687: DataConversionWarning: A column-vector y was passed when a 1d array was expected. Please change the shape of y to (n_samples,), for example using ravel().\n",
      "  estimator.fit(X_train, y_train, **fit_params)\n",
      "/Users/skostuchik/opt/anaconda3/lib/python3.8/site-packages/sklearn/model_selection/_validation.py:687: DataConversionWarning: A column-vector y was passed when a 1d array was expected. Please change the shape of y to (n_samples,), for example using ravel().\n",
      "  estimator.fit(X_train, y_train, **fit_params)\n",
      "/Users/skostuchik/opt/anaconda3/lib/python3.8/site-packages/sklearn/model_selection/_validation.py:687: DataConversionWarning: A column-vector y was passed when a 1d array was expected. Please change the shape of y to (n_samples,), for example using ravel().\n",
      "  estimator.fit(X_train, y_train, **fit_params)\n",
      "/Users/skostuchik/opt/anaconda3/lib/python3.8/site-packages/sklearn/model_selection/_validation.py:687: DataConversionWarning: A column-vector y was passed when a 1d array was expected. Please change the shape of y to (n_samples,), for example using ravel().\n",
      "  estimator.fit(X_train, y_train, **fit_params)\n",
      "/Users/skostuchik/opt/anaconda3/lib/python3.8/site-packages/sklearn/model_selection/_validation.py:687: DataConversionWarning: A column-vector y was passed when a 1d array was expected. Please change the shape of y to (n_samples,), for example using ravel().\n",
      "  estimator.fit(X_train, y_train, **fit_params)\n"
     ]
    },
    {
     "name": "stderr",
     "output_type": "stream",
     "text": [
      "/Users/skostuchik/opt/anaconda3/lib/python3.8/site-packages/sklearn/model_selection/_validation.py:687: DataConversionWarning: A column-vector y was passed when a 1d array was expected. Please change the shape of y to (n_samples,), for example using ravel().\n",
      "  estimator.fit(X_train, y_train, **fit_params)\n",
      "/Users/skostuchik/opt/anaconda3/lib/python3.8/site-packages/sklearn/model_selection/_validation.py:687: DataConversionWarning: A column-vector y was passed when a 1d array was expected. Please change the shape of y to (n_samples,), for example using ravel().\n",
      "  estimator.fit(X_train, y_train, **fit_params)\n",
      "/Users/skostuchik/opt/anaconda3/lib/python3.8/site-packages/sklearn/model_selection/_validation.py:687: DataConversionWarning: A column-vector y was passed when a 1d array was expected. Please change the shape of y to (n_samples,), for example using ravel().\n",
      "  estimator.fit(X_train, y_train, **fit_params)\n",
      "/Users/skostuchik/opt/anaconda3/lib/python3.8/site-packages/sklearn/model_selection/_validation.py:687: DataConversionWarning: A column-vector y was passed when a 1d array was expected. Please change the shape of y to (n_samples,), for example using ravel().\n",
      "  estimator.fit(X_train, y_train, **fit_params)\n",
      "/Users/skostuchik/opt/anaconda3/lib/python3.8/site-packages/sklearn/model_selection/_validation.py:687: DataConversionWarning: A column-vector y was passed when a 1d array was expected. Please change the shape of y to (n_samples,), for example using ravel().\n",
      "  estimator.fit(X_train, y_train, **fit_params)\n",
      "/Users/skostuchik/opt/anaconda3/lib/python3.8/site-packages/sklearn/model_selection/_validation.py:687: DataConversionWarning: A column-vector y was passed when a 1d array was expected. Please change the shape of y to (n_samples,), for example using ravel().\n",
      "  estimator.fit(X_train, y_train, **fit_params)\n",
      "/Users/skostuchik/opt/anaconda3/lib/python3.8/site-packages/sklearn/model_selection/_validation.py:687: DataConversionWarning: A column-vector y was passed when a 1d array was expected. Please change the shape of y to (n_samples,), for example using ravel().\n",
      "  estimator.fit(X_train, y_train, **fit_params)\n",
      "/Users/skostuchik/opt/anaconda3/lib/python3.8/site-packages/sklearn/model_selection/_validation.py:687: DataConversionWarning: A column-vector y was passed when a 1d array was expected. Please change the shape of y to (n_samples,), for example using ravel().\n",
      "  estimator.fit(X_train, y_train, **fit_params)\n",
      "/Users/skostuchik/opt/anaconda3/lib/python3.8/site-packages/sklearn/model_selection/_validation.py:687: DataConversionWarning: A column-vector y was passed when a 1d array was expected. Please change the shape of y to (n_samples,), for example using ravel().\n",
      "  estimator.fit(X_train, y_train, **fit_params)\n",
      "/Users/skostuchik/opt/anaconda3/lib/python3.8/site-packages/sklearn/model_selection/_validation.py:687: DataConversionWarning: A column-vector y was passed when a 1d array was expected. Please change the shape of y to (n_samples,), for example using ravel().\n",
      "  estimator.fit(X_train, y_train, **fit_params)\n",
      "/Users/skostuchik/opt/anaconda3/lib/python3.8/site-packages/sklearn/model_selection/_validation.py:687: DataConversionWarning: A column-vector y was passed when a 1d array was expected. Please change the shape of y to (n_samples,), for example using ravel().\n",
      "  estimator.fit(X_train, y_train, **fit_params)\n",
      "/Users/skostuchik/opt/anaconda3/lib/python3.8/site-packages/sklearn/model_selection/_validation.py:687: DataConversionWarning: A column-vector y was passed when a 1d array was expected. Please change the shape of y to (n_samples,), for example using ravel().\n",
      "  estimator.fit(X_train, y_train, **fit_params)\n",
      "/Users/skostuchik/opt/anaconda3/lib/python3.8/site-packages/sklearn/model_selection/_validation.py:687: DataConversionWarning: A column-vector y was passed when a 1d array was expected. Please change the shape of y to (n_samples,), for example using ravel().\n",
      "  estimator.fit(X_train, y_train, **fit_params)\n",
      "/Users/skostuchik/opt/anaconda3/lib/python3.8/site-packages/sklearn/model_selection/_validation.py:687: DataConversionWarning: A column-vector y was passed when a 1d array was expected. Please change the shape of y to (n_samples,), for example using ravel().\n",
      "  estimator.fit(X_train, y_train, **fit_params)\n",
      "/Users/skostuchik/opt/anaconda3/lib/python3.8/site-packages/sklearn/model_selection/_validation.py:687: DataConversionWarning: A column-vector y was passed when a 1d array was expected. Please change the shape of y to (n_samples,), for example using ravel().\n",
      "  estimator.fit(X_train, y_train, **fit_params)\n",
      "/Users/skostuchik/opt/anaconda3/lib/python3.8/site-packages/sklearn/model_selection/_validation.py:687: DataConversionWarning: A column-vector y was passed when a 1d array was expected. Please change the shape of y to (n_samples,), for example using ravel().\n",
      "  estimator.fit(X_train, y_train, **fit_params)\n",
      "/Users/skostuchik/opt/anaconda3/lib/python3.8/site-packages/sklearn/model_selection/_validation.py:687: DataConversionWarning: A column-vector y was passed when a 1d array was expected. Please change the shape of y to (n_samples,), for example using ravel().\n",
      "  estimator.fit(X_train, y_train, **fit_params)\n",
      "/Users/skostuchik/opt/anaconda3/lib/python3.8/site-packages/sklearn/model_selection/_validation.py:687: DataConversionWarning: A column-vector y was passed when a 1d array was expected. Please change the shape of y to (n_samples,), for example using ravel().\n",
      "  estimator.fit(X_train, y_train, **fit_params)\n",
      "/Users/skostuchik/opt/anaconda3/lib/python3.8/site-packages/sklearn/model_selection/_validation.py:687: DataConversionWarning: A column-vector y was passed when a 1d array was expected. Please change the shape of y to (n_samples,), for example using ravel().\n",
      "  estimator.fit(X_train, y_train, **fit_params)\n",
      "/Users/skostuchik/opt/anaconda3/lib/python3.8/site-packages/sklearn/model_selection/_validation.py:687: DataConversionWarning: A column-vector y was passed when a 1d array was expected. Please change the shape of y to (n_samples,), for example using ravel().\n",
      "  estimator.fit(X_train, y_train, **fit_params)\n",
      "/Users/skostuchik/opt/anaconda3/lib/python3.8/site-packages/sklearn/model_selection/_validation.py:687: DataConversionWarning: A column-vector y was passed when a 1d array was expected. Please change the shape of y to (n_samples,), for example using ravel().\n",
      "  estimator.fit(X_train, y_train, **fit_params)\n",
      "/Users/skostuchik/opt/anaconda3/lib/python3.8/site-packages/sklearn/model_selection/_validation.py:687: DataConversionWarning: A column-vector y was passed when a 1d array was expected. Please change the shape of y to (n_samples,), for example using ravel().\n",
      "  estimator.fit(X_train, y_train, **fit_params)\n",
      "/Users/skostuchik/opt/anaconda3/lib/python3.8/site-packages/sklearn/model_selection/_validation.py:687: DataConversionWarning: A column-vector y was passed when a 1d array was expected. Please change the shape of y to (n_samples,), for example using ravel().\n",
      "  estimator.fit(X_train, y_train, **fit_params)\n",
      "/Users/skostuchik/opt/anaconda3/lib/python3.8/site-packages/sklearn/model_selection/_validation.py:687: DataConversionWarning: A column-vector y was passed when a 1d array was expected. Please change the shape of y to (n_samples,), for example using ravel().\n",
      "  estimator.fit(X_train, y_train, **fit_params)\n",
      "/Users/skostuchik/opt/anaconda3/lib/python3.8/site-packages/sklearn/model_selection/_validation.py:687: DataConversionWarning: A column-vector y was passed when a 1d array was expected. Please change the shape of y to (n_samples,), for example using ravel().\n",
      "  estimator.fit(X_train, y_train, **fit_params)\n",
      "/Users/skostuchik/opt/anaconda3/lib/python3.8/site-packages/sklearn/model_selection/_validation.py:687: DataConversionWarning: A column-vector y was passed when a 1d array was expected. Please change the shape of y to (n_samples,), for example using ravel().\n",
      "  estimator.fit(X_train, y_train, **fit_params)\n",
      "/Users/skostuchik/opt/anaconda3/lib/python3.8/site-packages/sklearn/model_selection/_validation.py:687: DataConversionWarning: A column-vector y was passed when a 1d array was expected. Please change the shape of y to (n_samples,), for example using ravel().\n",
      "  estimator.fit(X_train, y_train, **fit_params)\n"
     ]
    },
    {
     "name": "stderr",
     "output_type": "stream",
     "text": [
      "/Users/skostuchik/opt/anaconda3/lib/python3.8/site-packages/sklearn/model_selection/_validation.py:687: DataConversionWarning: A column-vector y was passed when a 1d array was expected. Please change the shape of y to (n_samples,), for example using ravel().\n",
      "  estimator.fit(X_train, y_train, **fit_params)\n",
      "/Users/skostuchik/opt/anaconda3/lib/python3.8/site-packages/sklearn/model_selection/_validation.py:687: DataConversionWarning: A column-vector y was passed when a 1d array was expected. Please change the shape of y to (n_samples,), for example using ravel().\n",
      "  estimator.fit(X_train, y_train, **fit_params)\n",
      "/Users/skostuchik/opt/anaconda3/lib/python3.8/site-packages/sklearn/model_selection/_validation.py:687: DataConversionWarning: A column-vector y was passed when a 1d array was expected. Please change the shape of y to (n_samples,), for example using ravel().\n",
      "  estimator.fit(X_train, y_train, **fit_params)\n",
      "/Users/skostuchik/opt/anaconda3/lib/python3.8/site-packages/sklearn/model_selection/_validation.py:687: DataConversionWarning: A column-vector y was passed when a 1d array was expected. Please change the shape of y to (n_samples,), for example using ravel().\n",
      "  estimator.fit(X_train, y_train, **fit_params)\n",
      "/Users/skostuchik/opt/anaconda3/lib/python3.8/site-packages/sklearn/model_selection/_validation.py:687: DataConversionWarning: A column-vector y was passed when a 1d array was expected. Please change the shape of y to (n_samples,), for example using ravel().\n",
      "  estimator.fit(X_train, y_train, **fit_params)\n",
      "/Users/skostuchik/opt/anaconda3/lib/python3.8/site-packages/sklearn/model_selection/_validation.py:687: DataConversionWarning: A column-vector y was passed when a 1d array was expected. Please change the shape of y to (n_samples,), for example using ravel().\n",
      "  estimator.fit(X_train, y_train, **fit_params)\n",
      "/Users/skostuchik/opt/anaconda3/lib/python3.8/site-packages/sklearn/model_selection/_validation.py:687: DataConversionWarning: A column-vector y was passed when a 1d array was expected. Please change the shape of y to (n_samples,), for example using ravel().\n",
      "  estimator.fit(X_train, y_train, **fit_params)\n",
      "/Users/skostuchik/opt/anaconda3/lib/python3.8/site-packages/sklearn/model_selection/_validation.py:687: DataConversionWarning: A column-vector y was passed when a 1d array was expected. Please change the shape of y to (n_samples,), for example using ravel().\n",
      "  estimator.fit(X_train, y_train, **fit_params)\n",
      "/Users/skostuchik/opt/anaconda3/lib/python3.8/site-packages/sklearn/model_selection/_validation.py:687: DataConversionWarning: A column-vector y was passed when a 1d array was expected. Please change the shape of y to (n_samples,), for example using ravel().\n",
      "  estimator.fit(X_train, y_train, **fit_params)\n",
      "/Users/skostuchik/opt/anaconda3/lib/python3.8/site-packages/sklearn/model_selection/_validation.py:687: DataConversionWarning: A column-vector y was passed when a 1d array was expected. Please change the shape of y to (n_samples,), for example using ravel().\n",
      "  estimator.fit(X_train, y_train, **fit_params)\n",
      "/Users/skostuchik/opt/anaconda3/lib/python3.8/site-packages/sklearn/model_selection/_validation.py:687: DataConversionWarning: A column-vector y was passed when a 1d array was expected. Please change the shape of y to (n_samples,), for example using ravel().\n",
      "  estimator.fit(X_train, y_train, **fit_params)\n",
      "/Users/skostuchik/opt/anaconda3/lib/python3.8/site-packages/sklearn/model_selection/_validation.py:687: DataConversionWarning: A column-vector y was passed when a 1d array was expected. Please change the shape of y to (n_samples,), for example using ravel().\n",
      "  estimator.fit(X_train, y_train, **fit_params)\n",
      "/Users/skostuchik/opt/anaconda3/lib/python3.8/site-packages/sklearn/model_selection/_validation.py:687: DataConversionWarning: A column-vector y was passed when a 1d array was expected. Please change the shape of y to (n_samples,), for example using ravel().\n",
      "  estimator.fit(X_train, y_train, **fit_params)\n",
      "/Users/skostuchik/opt/anaconda3/lib/python3.8/site-packages/sklearn/model_selection/_validation.py:687: DataConversionWarning: A column-vector y was passed when a 1d array was expected. Please change the shape of y to (n_samples,), for example using ravel().\n",
      "  estimator.fit(X_train, y_train, **fit_params)\n",
      "/Users/skostuchik/opt/anaconda3/lib/python3.8/site-packages/sklearn/model_selection/_validation.py:687: DataConversionWarning: A column-vector y was passed when a 1d array was expected. Please change the shape of y to (n_samples,), for example using ravel().\n",
      "  estimator.fit(X_train, y_train, **fit_params)\n",
      "/Users/skostuchik/opt/anaconda3/lib/python3.8/site-packages/sklearn/model_selection/_validation.py:687: DataConversionWarning: A column-vector y was passed when a 1d array was expected. Please change the shape of y to (n_samples,), for example using ravel().\n",
      "  estimator.fit(X_train, y_train, **fit_params)\n",
      "/Users/skostuchik/opt/anaconda3/lib/python3.8/site-packages/sklearn/model_selection/_validation.py:687: DataConversionWarning: A column-vector y was passed when a 1d array was expected. Please change the shape of y to (n_samples,), for example using ravel().\n",
      "  estimator.fit(X_train, y_train, **fit_params)\n",
      "/Users/skostuchik/opt/anaconda3/lib/python3.8/site-packages/sklearn/model_selection/_validation.py:687: DataConversionWarning: A column-vector y was passed when a 1d array was expected. Please change the shape of y to (n_samples,), for example using ravel().\n",
      "  estimator.fit(X_train, y_train, **fit_params)\n",
      "/Users/skostuchik/opt/anaconda3/lib/python3.8/site-packages/sklearn/model_selection/_validation.py:687: DataConversionWarning: A column-vector y was passed when a 1d array was expected. Please change the shape of y to (n_samples,), for example using ravel().\n",
      "  estimator.fit(X_train, y_train, **fit_params)\n",
      "/Users/skostuchik/opt/anaconda3/lib/python3.8/site-packages/sklearn/model_selection/_validation.py:687: DataConversionWarning: A column-vector y was passed when a 1d array was expected. Please change the shape of y to (n_samples,), for example using ravel().\n",
      "  estimator.fit(X_train, y_train, **fit_params)\n",
      "/Users/skostuchik/opt/anaconda3/lib/python3.8/site-packages/sklearn/model_selection/_validation.py:687: DataConversionWarning: A column-vector y was passed when a 1d array was expected. Please change the shape of y to (n_samples,), for example using ravel().\n",
      "  estimator.fit(X_train, y_train, **fit_params)\n",
      "/Users/skostuchik/opt/anaconda3/lib/python3.8/site-packages/sklearn/model_selection/_validation.py:687: DataConversionWarning: A column-vector y was passed when a 1d array was expected. Please change the shape of y to (n_samples,), for example using ravel().\n",
      "  estimator.fit(X_train, y_train, **fit_params)\n",
      "/Users/skostuchik/opt/anaconda3/lib/python3.8/site-packages/sklearn/model_selection/_validation.py:687: DataConversionWarning: A column-vector y was passed when a 1d array was expected. Please change the shape of y to (n_samples,), for example using ravel().\n",
      "  estimator.fit(X_train, y_train, **fit_params)\n",
      "/Users/skostuchik/opt/anaconda3/lib/python3.8/site-packages/sklearn/model_selection/_validation.py:687: DataConversionWarning: A column-vector y was passed when a 1d array was expected. Please change the shape of y to (n_samples,), for example using ravel().\n",
      "  estimator.fit(X_train, y_train, **fit_params)\n",
      "/Users/skostuchik/opt/anaconda3/lib/python3.8/site-packages/sklearn/model_selection/_validation.py:687: DataConversionWarning: A column-vector y was passed when a 1d array was expected. Please change the shape of y to (n_samples,), for example using ravel().\n",
      "  estimator.fit(X_train, y_train, **fit_params)\n",
      "/Users/skostuchik/opt/anaconda3/lib/python3.8/site-packages/sklearn/model_selection/_validation.py:687: DataConversionWarning: A column-vector y was passed when a 1d array was expected. Please change the shape of y to (n_samples,), for example using ravel().\n",
      "  estimator.fit(X_train, y_train, **fit_params)\n",
      "/Users/skostuchik/opt/anaconda3/lib/python3.8/site-packages/sklearn/model_selection/_validation.py:687: DataConversionWarning: A column-vector y was passed when a 1d array was expected. Please change the shape of y to (n_samples,), for example using ravel().\n",
      "  estimator.fit(X_train, y_train, **fit_params)\n"
     ]
    },
    {
     "name": "stderr",
     "output_type": "stream",
     "text": [
      "/Users/skostuchik/opt/anaconda3/lib/python3.8/site-packages/sklearn/model_selection/_search.py:926: DataConversionWarning: A column-vector y was passed when a 1d array was expected. Please change the shape of y to (n_samples,), for example using ravel().\n",
      "  self.best_estimator_.fit(X, y, **fit_params)\n"
     ]
    },
    {
     "data": {
      "text/plain": [
       "GridSearchCV(cv=3, estimator=RandomForestRegressor(random_state=42),\n",
       "             param_grid={'max_depth': [2, 3, 4], 'max_features': [3, 4, 5],\n",
       "                         'n_estimators': [50, 100, 500]})"
      ]
     },
     "execution_count": 56,
     "metadata": {},
     "output_type": "execute_result"
    }
   ],
   "source": [
    "forest = RandomForestRegressor(random_state = 42)\n",
    "X_train, X_test, y_train, y_test = train_test_split(X, y, random_state = 42,\n",
    "                                                    train_size = .2)\n",
    "rf_grid = GridSearchCV(estimator = forest, param_grid = params_grid, cv = 3)\n",
    "rf_grid.fit(X_train, y_train)"
   ]
  },
  {
   "cell_type": "code",
   "execution_count": 89,
   "metadata": {
    "scrolled": false
   },
   "outputs": [
    {
     "data": {
      "text/plain": [
       "{'mean_fit_time': array([0.05409273, 0.08162657, 0.39296444, 0.04591775, 0.08271575,\n",
       "        0.41967257, 0.04010733, 0.09463628, 0.41612633, 0.04394937,\n",
       "        0.07974148, 0.39329807, 0.04081837, 0.08033268, 0.43124898,\n",
       "        0.04109637, 0.09111309, 0.40926862, 0.04420821, 0.08936803,\n",
       "        0.46074629, 0.0420994 , 0.10541002, 0.39661598, 0.04694335,\n",
       "        0.09097068, 0.42060375]),\n",
       " 'std_fit_time': array([1.57167246e-02, 7.97989639e-03, 1.56230926e-02, 1.29426045e-03,\n",
       "        1.06283575e-02, 1.61585597e-02, 1.26588714e-03, 3.03733271e-03,\n",
       "        2.42651594e-03, 1.30319731e-03, 3.33301413e-03, 1.23270479e-02,\n",
       "        4.99255311e-05, 4.04043661e-04, 4.00251456e-02, 1.01222414e-03,\n",
       "        1.07034757e-02, 1.17087636e-02, 9.66286791e-04, 4.95877198e-03,\n",
       "        2.06205738e-02, 3.62442736e-04, 1.64516326e-02, 1.56217842e-02,\n",
       "        7.14752824e-04, 1.58407133e-04, 5.33271278e-03]),\n",
       " 'mean_score_time': array([0.00547091, 0.00804313, 0.03257163, 0.00595665, 0.00825564,\n",
       "        0.03204799, 0.00512012, 0.01103298, 0.03233465, 0.0057323 ,\n",
       "        0.00816766, 0.03128393, 0.00543865, 0.00927798, 0.03108327,\n",
       "        0.00507077, 0.00903821, 0.03144797, 0.00584412, 0.00955033,\n",
       "        0.03623414, 0.00541528, 0.00966096, 0.03219326, 0.00569026,\n",
       "        0.00934013, 0.03328506]),\n",
       " 'std_score_time': array([2.09349283e-04, 1.59114391e-04, 2.97668154e-03, 2.06004230e-04,\n",
       "        3.15665138e-04, 1.24647035e-03, 5.35476074e-05, 1.75043771e-03,\n",
       "        1.20989860e-03, 1.93271165e-04, 5.08622266e-04, 8.77644758e-04,\n",
       "        2.00590789e-04, 9.62143965e-04, 1.51043788e-03, 3.29681164e-05,\n",
       "        3.96750628e-04, 6.16324965e-04, 3.88255609e-04, 9.49631726e-04,\n",
       "        2.96577934e-03, 1.99231342e-05, 1.35145590e-03, 1.45812941e-03,\n",
       "        5.05239153e-04, 5.23607743e-04, 1.83381429e-03]),\n",
       " 'param_max_depth': masked_array(data=[2, 2, 2, 2, 2, 2, 2, 2, 2, 3, 3, 3, 3, 3, 3, 3, 3, 3,\n",
       "                    4, 4, 4, 4, 4, 4, 4, 4, 4],\n",
       "              mask=[False, False, False, False, False, False, False, False,\n",
       "                    False, False, False, False, False, False, False, False,\n",
       "                    False, False, False, False, False, False, False, False,\n",
       "                    False, False, False],\n",
       "        fill_value='?',\n",
       "             dtype=object),\n",
       " 'param_max_features': masked_array(data=[3, 3, 3, 4, 4, 4, 5, 5, 5, 3, 3, 3, 4, 4, 4, 5, 5, 5,\n",
       "                    3, 3, 3, 4, 4, 4, 5, 5, 5],\n",
       "              mask=[False, False, False, False, False, False, False, False,\n",
       "                    False, False, False, False, False, False, False, False,\n",
       "                    False, False, False, False, False, False, False, False,\n",
       "                    False, False, False],\n",
       "        fill_value='?',\n",
       "             dtype=object),\n",
       " 'param_n_estimators': masked_array(data=[50, 100, 500, 50, 100, 500, 50, 100, 500, 50, 100, 500,\n",
       "                    50, 100, 500, 50, 100, 500, 50, 100, 500, 50, 100, 500,\n",
       "                    50, 100, 500],\n",
       "              mask=[False, False, False, False, False, False, False, False,\n",
       "                    False, False, False, False, False, False, False, False,\n",
       "                    False, False, False, False, False, False, False, False,\n",
       "                    False, False, False],\n",
       "        fill_value='?',\n",
       "             dtype=object),\n",
       " 'params': [{'max_depth': 2, 'max_features': 3, 'n_estimators': 50},\n",
       "  {'max_depth': 2, 'max_features': 3, 'n_estimators': 100},\n",
       "  {'max_depth': 2, 'max_features': 3, 'n_estimators': 500},\n",
       "  {'max_depth': 2, 'max_features': 4, 'n_estimators': 50},\n",
       "  {'max_depth': 2, 'max_features': 4, 'n_estimators': 100},\n",
       "  {'max_depth': 2, 'max_features': 4, 'n_estimators': 500},\n",
       "  {'max_depth': 2, 'max_features': 5, 'n_estimators': 50},\n",
       "  {'max_depth': 2, 'max_features': 5, 'n_estimators': 100},\n",
       "  {'max_depth': 2, 'max_features': 5, 'n_estimators': 500},\n",
       "  {'max_depth': 3, 'max_features': 3, 'n_estimators': 50},\n",
       "  {'max_depth': 3, 'max_features': 3, 'n_estimators': 100},\n",
       "  {'max_depth': 3, 'max_features': 3, 'n_estimators': 500},\n",
       "  {'max_depth': 3, 'max_features': 4, 'n_estimators': 50},\n",
       "  {'max_depth': 3, 'max_features': 4, 'n_estimators': 100},\n",
       "  {'max_depth': 3, 'max_features': 4, 'n_estimators': 500},\n",
       "  {'max_depth': 3, 'max_features': 5, 'n_estimators': 50},\n",
       "  {'max_depth': 3, 'max_features': 5, 'n_estimators': 100},\n",
       "  {'max_depth': 3, 'max_features': 5, 'n_estimators': 500},\n",
       "  {'max_depth': 4, 'max_features': 3, 'n_estimators': 50},\n",
       "  {'max_depth': 4, 'max_features': 3, 'n_estimators': 100},\n",
       "  {'max_depth': 4, 'max_features': 3, 'n_estimators': 500},\n",
       "  {'max_depth': 4, 'max_features': 4, 'n_estimators': 50},\n",
       "  {'max_depth': 4, 'max_features': 4, 'n_estimators': 100},\n",
       "  {'max_depth': 4, 'max_features': 4, 'n_estimators': 500},\n",
       "  {'max_depth': 4, 'max_features': 5, 'n_estimators': 50},\n",
       "  {'max_depth': 4, 'max_features': 5, 'n_estimators': 100},\n",
       "  {'max_depth': 4, 'max_features': 5, 'n_estimators': 500}],\n",
       " 'split0_test_score': array([0.69023336, 0.73169125, 0.71078664, 0.71986807, 0.74584966,\n",
       "        0.71320417, 0.6886492 , 0.70780486, 0.6872497 , 0.85626255,\n",
       "        0.87965433, 0.85885551, 0.87324621, 0.87941919, 0.85442125,\n",
       "        0.82436158, 0.83742532, 0.83577916, 0.92202393, 0.92644461,\n",
       "        0.91772887, 0.90293438, 0.91597315, 0.90237065, 0.88666049,\n",
       "        0.8965047 , 0.89204731]),\n",
       " 'split1_test_score': array([0.33100395, 0.3843261 , 0.33937557, 0.15800367, 0.14993274,\n",
       "        0.2204125 , 0.10614526, 0.0850459 , 0.15330855, 0.45440824,\n",
       "        0.44813496, 0.39887284, 0.19804742, 0.1906707 , 0.2087441 ,\n",
       "        0.14809031, 0.11141777, 0.13010276, 0.40028685, 0.43178051,\n",
       "        0.4481148 , 0.29584117, 0.25246792, 0.25900517, 0.18118137,\n",
       "        0.1345192 , 0.16829463]),\n",
       " 'split2_test_score': array([0.71093475, 0.69409382, 0.688726  , 0.70489981, 0.68529932,\n",
       "        0.68204479, 0.69782579, 0.68391475, 0.69104532, 0.85602453,\n",
       "        0.8449277 , 0.84150622, 0.82819524, 0.83238296, 0.84945231,\n",
       "        0.84166704, 0.84468542, 0.84106347, 0.94454607, 0.93761075,\n",
       "        0.92093552, 0.90773076, 0.91866456, 0.91715984, 0.92104381,\n",
       "        0.90651248, 0.91707765]),\n",
       " 'mean_test_score': array([0.57739069, 0.60337039, 0.5796294 , 0.52759052, 0.52702724,\n",
       "        0.53855382, 0.49754008, 0.49225517, 0.51053452, 0.72223177,\n",
       "        0.724239  , 0.69974485, 0.63316296, 0.63415762, 0.63753922,\n",
       "        0.60470631, 0.59784284, 0.60231513, 0.75561895, 0.76527862,\n",
       "        0.76225973, 0.70216877, 0.69570188, 0.69284522, 0.66296189,\n",
       "        0.64584546, 0.65913986]),\n",
       " 'std_test_score': array([0.1744266 , 0.15564638, 0.17012367, 0.2614088 , 0.26778945,\n",
       "        0.22531926, 0.27678329, 0.28810557, 0.25260166, 0.18937986,\n",
       "        0.1957491 , 0.21286651, 0.30822237, 0.31417998, 0.30321072,\n",
       "        0.32295356, 0.34396723, 0.33391154, 0.25142592, 0.23586283,\n",
       "        0.22213787, 0.28732368, 0.31341566, 0.30683065, 0.34095934,\n",
       "        0.36158535, 0.34723039]),\n",
       " 'rank_test_score': array([21, 17, 20, 23, 24, 22, 26, 27, 25,  5,  4,  7, 15, 14, 13, 16, 19,\n",
       "        18,  3,  1,  2,  6,  8,  9, 10, 12, 11], dtype=int32)}"
      ]
     },
     "execution_count": 89,
     "metadata": {},
     "output_type": "execute_result"
    }
   ],
   "source": [
    "rf_grid.cv_results_"
   ]
  },
  {
   "cell_type": "code",
   "execution_count": 58,
   "metadata": {},
   "outputs": [
    {
     "name": "stdout",
     "output_type": "stream",
     "text": [
      "Best cross val scoore: 0.7652786238661302\n"
     ]
    }
   ],
   "source": [
    "# best params\n",
    "rf_params = rf_grid.best_params_\n",
    "print(f'Best cross val scoore: {rf_grid.best_score_}')"
   ]
  },
  {
   "cell_type": "code",
   "execution_count": 59,
   "metadata": {},
   "outputs": [],
   "source": [
    "rf = RandomForestRegressor(n_estimators = rf_params['n_estimators'], \n",
    "                           max_depth = rf_params['max_depth'] - 1,\n",
    "                           max_features = rf_params['max_features'],\n",
    "                           random_state = 42)"
   ]
  },
  {
   "cell_type": "code",
   "execution_count": 61,
   "metadata": {},
   "outputs": [
    {
     "name": "stdout",
     "output_type": "stream",
     "text": [
      "0.9076223324230572\n",
      "0.8764496068731993\n"
     ]
    },
    {
     "name": "stderr",
     "output_type": "stream",
     "text": [
      "<ipython-input-61-55c7f2d5310f>:1: DataConversionWarning: A column-vector y was passed when a 1d array was expected. Please change the shape of y to (n_samples,), for example using ravel().\n",
      "  rf.fit(X_train, y_train)\n"
     ]
    }
   ],
   "source": [
    "rf.fit(X_train, y_train)\n",
    "print(rf.score(X_train, y_train))\n",
    "print(rf.score(X_test, y_test))"
   ]
  },
  {
   "cell_type": "code",
   "execution_count": 62,
   "metadata": {},
   "outputs": [],
   "source": [
    "valid = pd.DataFrame({'SEGMENT_TYPE': [0],\n",
    "                      'total_drivers_count': [534],\n",
    "                      'BUDGET': [320400],\n",
    "                      'PERIOD': [1],\n",
    "                      'TARGET_Y': [600],\n",
    "                      'TARGET_X': [6]})"
   ]
  },
  {
   "cell_type": "code",
   "execution_count": 63,
   "metadata": {},
   "outputs": [
    {
     "data": {
      "text/html": [
       "<div>\n",
       "<style scoped>\n",
       "    .dataframe tbody tr th:only-of-type {\n",
       "        vertical-align: middle;\n",
       "    }\n",
       "\n",
       "    .dataframe tbody tr th {\n",
       "        vertical-align: top;\n",
       "    }\n",
       "\n",
       "    .dataframe thead th {\n",
       "        text-align: right;\n",
       "    }\n",
       "</style>\n",
       "<table border=\"1\" class=\"dataframe\">\n",
       "  <thead>\n",
       "    <tr style=\"text-align: right;\">\n",
       "      <th></th>\n",
       "      <th>SEGMENT_TYPE</th>\n",
       "      <th>total_drivers_count</th>\n",
       "      <th>BUDGET</th>\n",
       "      <th>PERIOD</th>\n",
       "      <th>TARGET_Y</th>\n",
       "      <th>TARGET_X</th>\n",
       "    </tr>\n",
       "  </thead>\n",
       "  <tbody>\n",
       "    <tr>\n",
       "      <th>0</th>\n",
       "      <td>0</td>\n",
       "      <td>534</td>\n",
       "      <td>320400</td>\n",
       "      <td>1</td>\n",
       "      <td>600</td>\n",
       "      <td>6</td>\n",
       "    </tr>\n",
       "  </tbody>\n",
       "</table>\n",
       "</div>"
      ],
      "text/plain": [
       "   SEGMENT_TYPE  total_drivers_count  BUDGET  PERIOD  TARGET_Y  TARGET_X\n",
       "0             0                  534  320400       1       600         6"
      ]
     },
     "execution_count": 63,
     "metadata": {},
     "output_type": "execute_result"
    }
   ],
   "source": [
    "valid"
   ]
  },
  {
   "cell_type": "code",
   "execution_count": 64,
   "metadata": {},
   "outputs": [
    {
     "name": "stdout",
     "output_type": "stream",
     "text": [
      "Expected num of rides: [2614.92505582]\n",
      "Expected spend: [261492.50558235]\n"
     ]
    }
   ],
   "source": [
    "print(f'Expected num of rides: {rf.predict(valid[X_test.columns])}\\nExpected spend: {rf.predict(valid[X_test.columns]) / 6 * 600}')"
   ]
  },
  {
   "cell_type": "code",
   "execution_count": 67,
   "metadata": {},
   "outputs": [
    {
     "data": {
      "image/png": "[encoded data removed]",
      "text/plain": [
       "<Figure size 432x288 with 1 Axes>"
      ]
     },
     "metadata": {
      "needs_background": "light"
     },
     "output_type": "display_data"
    }
   ],
   "source": [
    "get_feature_importances(rf, X_train)"
   ]
  },
  {
   "cell_type": "code",
   "execution_count": 75,
   "metadata": {},
   "outputs": [],
   "source": [
    "import matplotlib.pyplot as plt\n",
    "from sklearn.tree import plot_tree"
   ]
  },
  {
   "cell_type": "code",
   "execution_count": 77,
   "metadata": {},
   "outputs": [
    {
     "data": {
      "text/plain": [
       "[Text(418.5, 475.65000000000003, 'total_drivers_count <= 298.0\\nsquared_error = 15868346.782\\nsamples = 243\\nvalue = 1271.087'),\n",
       " Text(209.25, 339.75, 'BUDGET <= 20250.0\\nsquared_error = 351883.839\\nsamples = 197\\nvalue = 367.041'),\n",
       " Text(104.625, 203.85000000000002, 'BUDGET <= 11000.0\\nsquared_error = 21964.741\\nsamples = 130\\nvalue = 98.349'),\n",
       " Text(52.3125, 67.94999999999999, 'squared_error = 4873.108\\nsamples = 112\\nvalue = 52.739'),\n",
       " Text(156.9375, 67.94999999999999, 'squared_error = 34344.406\\nsamples = 18\\nvalue = 384.167'),\n",
       " Text(313.875, 203.85000000000002, 'TARGET_X <= 17.5\\nsquared_error = 572926.761\\nsamples = 67\\nvalue = 941.304'),\n",
       " Text(261.5625, 67.94999999999999, 'squared_error = 77336.967\\nsamples = 16\\nvalue = 337.182'),\n",
       " Text(366.1875, 67.94999999999999, 'squared_error = 581248.621\\nsamples = 51\\nvalue = 1107.438'),\n",
       " Text(627.75, 339.75, 'TARGET_X <= 61.5\\nsquared_error = 65984613.798\\nsamples = 46\\nvalue = 5403.871'),\n",
       " Text(523.125, 203.85000000000002, 'TARGET_Y <= 425.0\\nsquared_error = 7275725.919\\nsamples = 42\\nvalue = 3042.689'),\n",
       " Text(470.8125, 67.94999999999999, 'squared_error = 195475.909\\nsamples = 15\\nvalue = 565.783'),\n",
       " Text(575.4375, 67.94999999999999, 'squared_error = 5600272.483\\nsamples = 27\\nvalue = 4541.868'),\n",
       " Text(732.375, 203.85000000000002, 'PERIOD <= 5.5\\nsquared_error = 169998697.136\\nsamples = 4\\nvalue = 21407.444'),\n",
       " Text(680.0625, 67.94999999999999, 'squared_error = 61447333.102\\nsamples = 3\\nvalue = 27316.429'),\n",
       " Text(784.6875, 67.94999999999999, 'squared_error = 0.0\\nsamples = 1\\nvalue = 726.0')]"
      ]
     },
     "execution_count": 77,
     "metadata": {},
     "output_type": "execute_result"
    },
    {
     "data": {
      "image/png": "[encoded data removed]",
      "text/plain": [
       "<Figure size 1080x720 with 1 Axes>"
      ]
     },
     "metadata": {
      "needs_background": "light"
     },
     "output_type": "display_data"
    }
   ],
   "source": [
    "fig = plt.figure(figsize=(15, 10))\n",
    "plot_tree(rf.estimators_[0], \n",
    "          feature_names=X_train.columns,\n",
    "          class_names=y.columns, \n",
    "          filled=True, impurity=True, \n",
    "          rounded=True)"
   ]
  }
 ],
 "metadata": {
  "kernelspec": {
   "display_name": "Python 3",
   "language": "python",
   "name": "python3"
  },
  "language_info": {
   "codemirror_mode": {
    "name": "ipython",
    "version": 3
   },
   "file_extension": ".py",
   "mimetype": "text/x-python",
   "name": "python",
   "nbconvert_exporter": "python",
   "pygments_lexer": "ipython3",
   "version": "3.7.4"
  }
 },
 "nbformat": 4,
 "nbformat_minor": 5
}
