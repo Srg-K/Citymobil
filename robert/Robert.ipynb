{
 "cells": [
  {
   "cell_type": "code",
   "execution_count": 18,
   "metadata": {},
   "outputs": [],
   "source": [
    "import pandas as pd\n",
    "import numpy as np\n",
    "from os import walk\n",
    "from tqdm import tqdm\n",
    "import datetime"
   ]
  },
  {
   "cell_type": "code",
   "execution_count": 19,
   "metadata": {},
   "outputs": [],
   "source": [
    "files = [i[2] for i in walk('/Users/skostuchik/projects/robert/files')][0]\n",
    "raw_data = pd.DataFrame()"
   ]
  },
  {
   "cell_type": "code",
   "execution_count": 20,
   "metadata": {},
   "outputs": [],
   "source": [
    "def labels_formatting(metric):\n",
    "    '''Форматирование названий показателей - удаление пробелов в начале и замена на _'''\n",
    "    cnt = 0\n",
    "    for i in metric:\n",
    "        if i == ' ':\n",
    "            cnt += 1\n",
    "        else:\n",
    "            return(metric[cnt:].replace(' ', '_').replace(':', ''))"
   ]
  },
  {
   "cell_type": "code",
   "execution_count": 55,
   "metadata": {},
   "outputs": [
    {
     "name": "stderr",
     "output_type": "stream",
     "text": [
      "100%|██████████| 11/11 [00:00<00:00, 27.02it/s]\n"
     ]
    }
   ],
   "source": [
    "for i in tqdm(files):\n",
    "    df = pd.read_csv(f'/Users/skostuchik/projects/robert/files/{i}')\n",
    "    df = df.loc[24:]\n",
    "    df = df[df['0'].notna()]\n",
    "    df['0'] = df['0'].apply(labels_formatting)\n",
    "    df = df.T\n",
    "    \n",
    "    new_header = df.iloc[0]\n",
    "    df = df[1:]\n",
    "    df.columns = new_header\n",
    "    \n",
    "    df['company'] = i.split('_')[2]\n",
    "    \n",
    "    raw_data = raw_data.append(df)"
   ]
  },
  {
   "cell_type": "code",
   "execution_count": 22,
   "metadata": {
    "scrolled": true
   },
   "outputs": [],
   "source": [
    "raw_data = raw_data.replace('-', np.nan)\n",
    "raw_data = raw_data.replace('TTM/current', np.nan)"
   ]
  },
  {
   "cell_type": "code",
   "execution_count": 23,
   "metadata": {},
   "outputs": [],
   "source": [
    "raw_data = raw_data.loc[:,~raw_data.columns.duplicated()]"
   ]
  },
  {
   "cell_type": "code",
   "execution_count": 24,
   "metadata": {},
   "outputs": [],
   "source": [
    "str_cols = ['company']\n",
    "date_cols = ['Fiscal_Period', 'Restated_Filing_Date', 'Filing_Date', 'Earnings_Release_Date']"
   ]
  },
  {
   "cell_type": "code",
   "execution_count": 25,
   "metadata": {},
   "outputs": [],
   "source": [
    "def float_correction(x):\n",
    "    x = str(x).replace(',','')\n",
    "    \n",
    "    if ' M' in x:\n",
    "        x = float(x.replace(' M','')) * 1000000\n",
    "    else:\n",
    "        x = float(x)\n",
    "    \n",
    "    return(x)"
   ]
  },
  {
   "cell_type": "code",
   "execution_count": 26,
   "metadata": {},
   "outputs": [
    {
     "name": "stderr",
     "output_type": "stream",
     "text": [
      "100%|██████████| 226/226 [00:00<00:00, 295.37it/s]\n"
     ]
    }
   ],
   "source": [
    "for i in tqdm(raw_data.columns):\n",
    "    if i in date_cols:\n",
    "        if i == 'Fiscal_Period':\n",
    "            #raw_data[i] = pd.to_datetime(raw_data['Fiscal_Period'].apply(lambda x: str(x)+'-01' if pd.notna(x) else np.nan))\n",
    "            continue\n",
    "        else:\n",
    "            raw_data[i] = pd.to_datetime(raw_data[i])\n",
    "        \n",
    "    elif i in str_cols:\n",
    "        continue\n",
    "    else:\n",
    "        #print(i)\n",
    "        raw_data[i] = raw_data[i].apply(float_correction)"
   ]
  },
  {
   "cell_type": "code",
   "execution_count": null,
   "metadata": {},
   "outputs": [],
   "source": []
  },
  {
   "cell_type": "code",
   "execution_count": null,
   "metadata": {},
   "outputs": [],
   "source": []
  },
  {
   "cell_type": "code",
   "execution_count": 27,
   "metadata": {},
   "outputs": [
    {
     "name": "stdout",
     "output_type": "stream",
     "text": [
      "10/21/19 11/20/19\n"
     ]
    }
   ],
   "source": [
    "print(date_from_1, date_to_1)"
   ]
  },
  {
   "cell_type": "code",
   "execution_count": 28,
   "metadata": {},
   "outputs": [
    {
     "data": {
      "text/plain": [
       "array(['2019-11-20T00:00:00.000000000', '2019-10-22T00:00:00.000000000',\n",
       "       '2019-10-29T00:00:00.000000000', '2019-11-19T00:00:00.000000000',\n",
       "       '2019-10-31T00:00:00.000000000', '2019-10-23T00:00:00.000000000',\n",
       "       '2019-10-25T00:00:00.000000000', '2019-11-13T00:00:00.000000000',\n",
       "       '2019-11-01T00:00:00.000000000'], dtype='datetime64[ns]')"
      ]
     },
     "execution_count": 28,
     "metadata": {},
     "output_type": "execute_result"
    }
   ],
   "source": [
    "raw_data[(raw_data['Filing_Date'] >= date_from_1)&(raw_data['Filing_Date'] <= date_to_1)]['Filing_Date'].unique()"
   ]
  },
  {
   "cell_type": "markdown",
   "metadata": {
    "scrolled": true
   },
   "source": [
    "# Case 1"
   ]
  },
  {
   "cell_type": "code",
   "execution_count": 29,
   "metadata": {},
   "outputs": [
    {
     "data": {
      "text/html": [
       "<div>\n",
       "<style scoped>\n",
       "    .dataframe tbody tr th:only-of-type {\n",
       "        vertical-align: middle;\n",
       "    }\n",
       "\n",
       "    .dataframe tbody tr th {\n",
       "        vertical-align: top;\n",
       "    }\n",
       "\n",
       "    .dataframe thead th {\n",
       "        text-align: right;\n",
       "    }\n",
       "</style>\n",
       "<table border=\"1\" class=\"dataframe\">\n",
       "  <thead>\n",
       "    <tr style=\"text-align: right;\">\n",
       "      <th>0</th>\n",
       "      <th>Filing_Date</th>\n",
       "      <th>Month_End_Stock_Price</th>\n",
       "    </tr>\n",
       "  </thead>\n",
       "  <tbody>\n",
       "    <tr>\n",
       "      <th>1</th>\n",
       "      <td>2020-11-25</td>\n",
       "      <td>NaN</td>\n",
       "    </tr>\n",
       "    <tr>\n",
       "      <th>2</th>\n",
       "      <td>2020-11-25</td>\n",
       "      <td>124.08</td>\n",
       "    </tr>\n",
       "    <tr>\n",
       "      <th>3</th>\n",
       "      <td>2019-11-20</td>\n",
       "      <td>130.32</td>\n",
       "    </tr>\n",
       "    <tr>\n",
       "      <th>4</th>\n",
       "      <td>2018-11-21</td>\n",
       "      <td>116.94</td>\n",
       "    </tr>\n",
       "    <tr>\n",
       "      <th>5</th>\n",
       "      <td>2017-11-22</td>\n",
       "      <td>98.57</td>\n",
       "    </tr>\n",
       "    <tr>\n",
       "      <th>...</th>\n",
       "      <td>...</td>\n",
       "      <td>...</td>\n",
       "    </tr>\n",
       "    <tr>\n",
       "      <th>75</th>\n",
       "      <td>2007-04-09</td>\n",
       "      <td>39.25</td>\n",
       "    </tr>\n",
       "    <tr>\n",
       "      <th>76</th>\n",
       "      <td>2007-02-05</td>\n",
       "      <td>40.16</td>\n",
       "    </tr>\n",
       "    <tr>\n",
       "      <th>77</th>\n",
       "      <td>2006-10-11</td>\n",
       "      <td>32.44</td>\n",
       "    </tr>\n",
       "    <tr>\n",
       "      <th>78</th>\n",
       "      <td>2006-07-11</td>\n",
       "      <td>28.63</td>\n",
       "    </tr>\n",
       "    <tr>\n",
       "      <th>79</th>\n",
       "      <td>2006-04-12</td>\n",
       "      <td>38.55</td>\n",
       "    </tr>\n",
       "  </tbody>\n",
       "</table>\n",
       "<p>807 rows × 2 columns</p>\n",
       "</div>"
      ],
      "text/plain": [
       "0  Filing_Date  Month_End_Stock_Price\n",
       "1   2020-11-25                    NaN\n",
       "2   2020-11-25                 124.08\n",
       "3   2019-11-20                 130.32\n",
       "4   2018-11-21                 116.94\n",
       "5   2017-11-22                  98.57\n",
       "..         ...                    ...\n",
       "75  2007-04-09                  39.25\n",
       "76  2007-02-05                  40.16\n",
       "77  2006-10-11                  32.44\n",
       "78  2006-07-11                  28.63\n",
       "79  2006-04-12                  38.55\n",
       "\n",
       "[807 rows x 2 columns]"
      ]
     },
     "execution_count": 29,
     "metadata": {},
     "output_type": "execute_result"
    }
   ],
   "source": [
    "raw_data[['Filing_Date','Month_End_Stock_Price']]"
   ]
  },
  {
   "cell_type": "code",
   "execution_count": 30,
   "metadata": {},
   "outputs": [],
   "source": [
    "date_to_1 = '11/20/19'\n",
    "date_from_1 = (datetime.datetime(2019, 11, 20) - datetime.timedelta(days=30)).strftime(\"%m/%d/%y\")"
   ]
  },
  {
   "cell_type": "code",
   "execution_count": 32,
   "metadata": {},
   "outputs": [],
   "source": [
    "#указать формат даты!!!\n",
    "df_1 = raw_data[(raw_data['Filing_Date'] >= date_from_1)&(raw_data['Filing_Date'] <= date_to_1)]"
   ]
  },
  {
   "cell_type": "code",
   "execution_count": 38,
   "metadata": {},
   "outputs": [],
   "source": [
    "index_first_price = df_1[df_1['PE_Ratio']<20]['Month_End_Stock_Price'].sum()\n",
    "companies_ticker = df_1[df_1['PE_Ratio']<20]['company'].unique().tolist()"
   ]
  },
  {
   "cell_type": "code",
   "execution_count": 39,
   "metadata": {},
   "outputs": [],
   "source": [
    "date_from_2 = '09/20/20'\n",
    "date_to_2 = '11/20/20'"
   ]
  },
  {
   "cell_type": "code",
   "execution_count": 48,
   "metadata": {},
   "outputs": [],
   "source": [
    "df_2 = raw_data[(raw_data['Filing_Date'] >= date_from_2)&(raw_data['Filing_Date'] <= date_to_2)&\n",
    "                (raw_data['company'].isin(companies_ticker))]"
   ]
  },
  {
   "cell_type": "code",
   "execution_count": 50,
   "metadata": {},
   "outputs": [],
   "source": [
    "index_second_price = df_2['Month_End_Stock_Price'].sum()"
   ]
  },
  {
   "cell_type": "code",
   "execution_count": 51,
   "metadata": {},
   "outputs": [
    {
     "name": "stdout",
     "output_type": "stream",
     "text": [
      "\n",
      "First Price: 260.64, \n",
      "Second Price: 429.01,\n",
      "% Change Price: 0.6459868017188459\n",
      "\n"
     ]
    }
   ],
   "source": [
    "print(f'''\n",
    "First Price: {index_first_price}, \n",
    "Second Price: {index_second_price},\n",
    "% Change Price: {index_second_price / index_first_price - 1}\n",
    "''')"
   ]
  },
  {
   "cell_type": "code",
   "execution_count": null,
   "metadata": {},
   "outputs": [],
   "source": []
  },
  {
   "cell_type": "code",
   "execution_count": null,
   "metadata": {},
   "outputs": [],
   "source": []
  },
  {
   "cell_type": "markdown",
   "metadata": {},
   "source": [
    "***"
   ]
  },
  {
   "cell_type": "code",
   "execution_count": null,
   "metadata": {},
   "outputs": [],
   "source": [
    "c_names = raw_data.columns.tolist()"
   ]
  },
  {
   "cell_type": "code",
   "execution_count": null,
   "metadata": {},
   "outputs": [],
   "source": [
    "c_names.sort()"
   ]
  },
  {
   "cell_type": "code",
   "execution_count": null,
   "metadata": {},
   "outputs": [],
   "source": [
    "c_names"
   ]
  },
  {
   "cell_type": "code",
   "execution_count": null,
   "metadata": {},
   "outputs": [],
   "source": []
  },
  {
   "cell_type": "code",
   "execution_count": null,
   "metadata": {},
   "outputs": [],
   "source": []
  },
  {
   "cell_type": "code",
   "execution_count": null,
   "metadata": {},
   "outputs": [],
   "source": []
  }
 ],
 "metadata": {
  "kernelspec": {
   "display_name": "Python 3",
   "language": "python",
   "name": "python3"
  },
  "language_info": {
   "codemirror_mode": {
    "name": "ipython",
    "version": 3
   },
   "file_extension": ".py",
   "mimetype": "text/x-python",
   "name": "python",
   "nbconvert_exporter": "python",
   "pygments_lexer": "ipython3",
   "version": "3.8.5"
  }
 },
 "nbformat": 4,
 "nbformat_minor": 4
}
